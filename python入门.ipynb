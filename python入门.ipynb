{
 "cells": [
  {
   "cell_type": "code",
   "execution_count": 6,
   "id": "2cdcc267",
   "metadata": {},
   "outputs": [
    {
     "name": "stdout",
     "output_type": "stream",
     "text": [
      "123\n",
      "1\n"
     ]
    }
   ],
   "source": [
    "print(\"123\")\n",
    "print(1)"
   ]
  },
  {
   "cell_type": "code",
   "execution_count": 8,
   "id": "8707c936",
   "metadata": {},
   "outputs": [
    {
     "data": {
      "text/plain": [
       "str"
      ]
     },
     "execution_count": 8,
     "metadata": {},
     "output_type": "execute_result"
    }
   ],
   "source": [
    "type(\"123\")"
   ]
  },
  {
   "cell_type": "code",
   "execution_count": null,
   "id": "cd841841",
   "metadata": {},
   "outputs": [
    {
     "name": "stdout",
     "output_type": "stream",
     "text": [
      "1 2 3 4\n",
      "1->2->3->4END\t1->2->3->4END\t"
     ]
    }
   ],
   "source": [
    "print(1,2,3,4) # 默认空格分隔\n",
    "print(1,2,3,4,sep='->',end='END\\t')# 指定分隔符,print默认结尾为\\n,即换行符\n",
    "print(1,2,3,4,sep='->',end='END\\t') # 指定结尾符\n",
    "with open('output.txt','a') as f: # 追加写入\n",
    "    print(5,6,7,8,sep='->',end='END\\n',file=f) # 指定结尾符\n"
   ]
  },
  {
   "cell_type": "code",
   "execution_count": null,
   "id": "cb843e55",
   "metadata": {},
   "outputs": [
    {
     "name": "stdout",
     "output_type": "stream",
     "text": [
      "1*1=1\t1*2=2\t2*2=4\t1*3=3\t2*3=6\t3*3=9\t1*4=4\t2*4=8\t3*4=12\t4*4=16\t1*5=5\t2*5=10\t3*5=15\t4*5=20\t5*5=25\t1*6=6\t2*6=12\t3*6=18\t4*6=24\t5*6=30\t6*6=36\t1*7=7\t2*7=14\t3*7=21\t4*7=28\t5*7=35\t6*7=42\t7*7=49\t1*8=8\t2*8=16\t3*8=24\t4*8=32\t5*8=40\t6*8=48\t7*8=56\t8*8=64\t1*9=9\t2*9=18\t3*9=27\t4*9=36\t5*9=45\t6*9=54\t7*9=63\t8*9=72\t9*9=81\t"
     ]
    }
   ],
   "source": [
    "#九九乘法表\n",
    "for i in range (1,10):\n",
    "    for j in range(1,i+1):\n",
    "        print(f\"{j}*{i}={i*j}\",end='\\t')\n",
    "    print()"
   ]
  }
 ],
 "metadata": {
  "kernelspec": {
   "display_name": "base",
   "language": "python",
   "name": "python3"
  },
  "language_info": {
   "codemirror_mode": {
    "name": "ipython",
    "version": 3
   },
   "file_extension": ".py",
   "mimetype": "text/x-python",
   "name": "python",
   "nbconvert_exporter": "python",
   "pygments_lexer": "ipython3",
   "version": "3.12.7"
  }
 },
 "nbformat": 4,
 "nbformat_minor": 5
}

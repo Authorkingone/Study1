{
 "cells": [
  {
   "cell_type": "code",
   "execution_count": 6,
   "id": "2cdcc267",
   "metadata": {},
   "outputs": [
    {
     "name": "stdout",
     "output_type": "stream",
     "text": [
      "123\n",
      "1\n"
     ]
    }
   ],
   "source": [
    "print(\"123\")\n",
    "print(1)"
   ]
  },
  {
   "cell_type": "code",
   "execution_count": 8,
   "id": "8707c936",
   "metadata": {},
   "outputs": [
    {
     "data": {
      "text/plain": [
       "str"
      ]
     },
     "execution_count": 8,
     "metadata": {},
     "output_type": "execute_result"
    }
   ],
   "source": [
    "type(\"123\")"
   ]
  },
  {
   "cell_type": "code",
   "execution_count": null,
   "id": "cd841841",
   "metadata": {},
   "outputs": [
    {
     "name": "stdout",
     "output_type": "stream",
     "text": [
      "1 2 3 4\n",
      "1->2->3->4END\t1->2->3->4END\t"
     ]
    }
   ],
   "source": [
    "print(1,2,3,4) # 默认空格分隔\n",
    "print(1,2,3,4,sep='->',end='END\\t')# 指定分隔符,print默认结尾为\\n,即换行符\n",
    "print(1,2,3,4,sep='->',end='END\\t') # 指定结尾符\n",
    "with open('output.txt','a') as f: # 追加写入\n",
    "    print(5,6,7,8,sep='->',end='END\\n',file=f) # 指定结尾符\n"
   ]
  },
  {
   "cell_type": "code",
   "execution_count": 22,
   "id": "cb843e55",
   "metadata": {},
   "outputs": [
    {
     "name": "stdout",
     "output_type": "stream",
     "text": [
      "1*1=1\t\n",
      "1*2=2\t2*2=4\t\n",
      "1*3=3\t2*3=6\t3*3=9\t\n",
      "1*4=4\t2*4=8\t3*4=12\t4*4=16\t\n",
      "1*5=5\t2*5=10\t3*5=15\t4*5=20\t5*5=25\t\n",
      "1*6=6\t2*6=12\t3*6=18\t4*6=24\t5*6=30\t6*6=36\t\n",
      "1*7=7\t2*7=14\t3*7=21\t4*7=28\t5*7=35\t6*7=42\t7*7=49\t\n",
      "1*8=8\t2*8=16\t3*8=24\t4*8=32\t5*8=40\t6*8=48\t7*8=56\t8*8=64\t\n",
      "1*9=9\t2*9=18\t3*9=27\t4*9=36\t5*9=45\t6*9=54\t7*9=63\t8*9=72\t9*9=81\t\n"
     ]
    }
   ],
   "source": [
    "#九九乘法表\n",
    "for i in range (1,10):\n",
    "    for j in range(1,i+1):\n",
    "        print(f\"{j}*{i}={i*j}\",end='\\t')\n",
    "    print()"
   ]
  },
  {
   "cell_type": "code",
   "execution_count": null,
   "id": "67920c86",
   "metadata": {},
   "outputs": [],
   "source": [
    "with open('output.txt','a') as f: # 追加写入\n",
    "    print('my name is%s,age is %d'%('zhangsan',18), file=f) # 老式格式化字符串\n",
    "    print('my name is{},age is {}'.format('zhangsan',18), file=f) # 新式格式化字符串\n",
    "    print(f'my name is{\"zhangsan\"},age is {18}', file=f) # f-string"
   ]
  },
  {
   "cell_type": "code",
   "execution_count": 3,
   "id": "8b891418",
   "metadata": {},
   "outputs": [
    {
     "name": "stdout",
     "output_type": "stream",
     "text": [
      "['False', 'None', 'True', 'and', 'as', 'assert', 'async', 'await', 'break', 'class', 'continue', 'def', 'del', 'elif', 'else', 'except', 'finally', 'for', 'from', 'global', 'if', 'import', 'in', 'is', 'lambda', 'nonlocal', 'not', 'or', 'pass', 'raise', 'return', 'try', 'while', 'with', 'yield']\n"
     ]
    }
   ],
   "source": [
    "import keyword\n",
    "print(keyword.kwlist) # Python关键字"
   ]
  },
  {
   "cell_type": "code",
   "execution_count": 1,
   "id": "8c5d2031",
   "metadata": {},
   "outputs": [
    {
     "name": "stdout",
     "output_type": "stream",
     "text": [
      "用户名是13\n",
      "<class 'str'>\n"
     ]
    }
   ],
   "source": [
    "user = input(\"请输入用户名：\")\n",
    "print(f\"用户名是{user}\")\n",
    "print(type(user))"
   ]
  },
  {
   "cell_type": "code",
   "execution_count": 5,
   "id": "756ace3e",
   "metadata": {},
   "outputs": [
    {
     "name": "stdout",
     "output_type": "stream",
     "text": [
      "140710262163160\n"
     ]
    }
   ],
   "source": [
    "a = 234\n",
    "print(id(a)) # 查看变量的内存地址"
   ]
  },
  {
   "cell_type": "code",
   "execution_count": 1,
   "id": "acac6af0",
   "metadata": {},
   "outputs": [
    {
     "name": "stdout",
     "output_type": "stream",
     "text": [
      "1.3145\n",
      "0.001\n",
      "3\n"
     ]
    }
   ],
   "source": [
    "# bool and int float str list tuple dict set\n",
    "a = 1.3145211\n",
    "print(f\"{a:.4f}\") # 保留4位小数\n",
    "b=1e-3\n",
    "print(b) # 科学计数法\n",
    "print(False+3)\n",
    "bool(1)\n",
    "with open('output.txt','a') as f: # 追加写入\n",
    "    print(f\"bool(1)={bool(1)}\", file=f)\n",
    "    print(f\"bool(0)={bool(0)}\", file=f)"
   ]
  },
  {
   "cell_type": "code",
   "execution_count": null,
   "id": "69d0999c",
   "metadata": {},
   "outputs": [
    {
     "name": "stdout",
     "output_type": "stream",
     "text": [
      "bc\n"
     ]
    }
   ],
   "source": [
    "#切片的格式 a[start:end:step]\n",
    "a = \"abcdefgh\"\n",
    "print(a[1:3]) # cde, 包前不包后  "
   ]
  },
  {
   "cell_type": "code",
   "execution_count": null,
   "id": "9e5622ba",
   "metadata": {},
   "outputs": [
    {
     "name": "stdout",
     "output_type": "stream",
     "text": [
      "[1, 3, 5, 7]\n",
      "[9, 2, 3]\n",
      "9\n",
      "[2, 3, 9]\n",
      "[9, 3, 2]\n"
     ]
    },
    {
     "data": {
      "text/plain": [
       "1"
      ]
     },
     "execution_count": 25,
     "metadata": {},
     "output_type": "execute_result"
    }
   ],
   "source": [
    "a = [1,2],[3,4]\n",
    "b= [5,6],[7,8]\n",
    "c = a+b\n",
    "d =list(range(1,8,2)) # 1-9 步长为2\n",
    "print(d)\n",
    "e = [1,2,3]\n",
    "e[0]=9\n",
    "print(e)\n",
    "print(max(e))\n",
    "print(sorted(e)) # 排序\n",
    "e.sort(reverse=True) # 原地排序\n",
    "print(e)\n",
    "e.count(2) # 统计2出现的次数\n"
   ]
  },
  {
   "cell_type": "code",
   "execution_count": null,
   "id": "f2f85e99",
   "metadata": {},
   "outputs": [],
   "source": [
    "# tuple\n",
    "a = (1,)#加逗号表示元组,不可变\n"
   ]
  },
  {
   "cell_type": "code",
   "execution_count": null,
   "id": "0edad579",
   "metadata": {},
   "outputs": [],
   "source": [
    "#set集合a = {1,2,3,4,5},其中元素无序不重复，不支持索引和切片"
   ]
  },
  {
   "cell_type": "code",
   "execution_count": null,
   "id": "b9c6f453",
   "metadata": {},
   "outputs": [],
   "source": []
  }
 ],
 "metadata": {
  "kernelspec": {
   "display_name": "base",
   "language": "python",
   "name": "python3"
  },
  "language_info": {
   "codemirror_mode": {
    "name": "ipython",
    "version": 3
   },
   "file_extension": ".py",
   "mimetype": "text/x-python",
   "name": "python",
   "nbconvert_exporter": "python",
   "pygments_lexer": "ipython3",
   "version": "3.12.7"
  }
 },
 "nbformat": 4,
 "nbformat_minor": 5
}
